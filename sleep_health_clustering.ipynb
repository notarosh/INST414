{
 "cells": [
  {
   "cell_type": "code",
   "execution_count": 9,
   "id": "bd329b2c-1b5b-4c33-85ec-cbb1b46c5282",
   "metadata": {},
   "outputs": [
    {
     "name": "stdout",
     "output_type": "stream",
     "text": [
      "          Gender  Age            Occupation  Sleep Duration  Quality of Sleep  \\\n",
      "Person ID                                                                       \n",
      "1           Male   27     Software Engineer             6.1                 6   \n",
      "2           Male   28                Doctor             6.2                 6   \n",
      "3           Male   28                Doctor             6.2                 6   \n",
      "4           Male   28  Sales Representative             5.9                 4   \n",
      "5           Male   28  Sales Representative             5.9                 4   \n",
      "6           Male   28     Software Engineer             5.9                 4   \n",
      "7           Male   29               Teacher             6.3                 6   \n",
      "8           Male   29                Doctor             7.8                 7   \n",
      "9           Male   29                Doctor             7.8                 7   \n",
      "10          Male   29                Doctor             7.8                 7   \n",
      "\n",
      "           Physical Activity Level  Stress Level BMI Category Blood Pressure  \\\n",
      "Person ID                                                                      \n",
      "1                               42             6   Overweight         126/83   \n",
      "2                               60             8       Normal         125/80   \n",
      "3                               60             8       Normal         125/80   \n",
      "4                               30             8        Obese         140/90   \n",
      "5                               30             8        Obese         140/90   \n",
      "6                               30             8        Obese         140/90   \n",
      "7                               40             7        Obese         140/90   \n",
      "8                               75             6       Normal         120/80   \n",
      "9                               75             6       Normal         120/80   \n",
      "10                              75             6       Normal         120/80   \n",
      "\n",
      "           Heart Rate  Daily Steps Sleep Disorder  \n",
      "Person ID                                          \n",
      "1                  77         4200            NaN  \n",
      "2                  75        10000            NaN  \n",
      "3                  75        10000            NaN  \n",
      "4                  85         3000    Sleep Apnea  \n",
      "5                  85         3000    Sleep Apnea  \n",
      "6                  85         3000       Insomnia  \n",
      "7                  82         3500       Insomnia  \n",
      "8                  70         8000            NaN  \n",
      "9                  70         8000            NaN  \n",
      "10                 70         8000            NaN  \n"
     ]
    }
   ],
   "source": [
    "import pandas as pd\n",
    "from sklearn.cluster import KMeans\n",
    "import random\n",
    "import matplotlib.pyplot as plt\n",
    "\n",
    "df = pd.read_csv(\"/Users/nooshy/Downloads/Sleep_health_and_lifestyle_dataset.csv\")\n",
    "df = df.set_index('Person ID')\n",
    "\n",
    "print(df[:10])"
   ]
  },
  {
   "cell_type": "code",
   "execution_count": 10,
   "id": "cc9150b6-b129-4727-a73c-b67e1235e86d",
   "metadata": {},
   "outputs": [
    {
     "data": {
      "text/html": [
       "<div>\n",
       "<style scoped>\n",
       "    .dataframe tbody tr th:only-of-type {\n",
       "        vertical-align: middle;\n",
       "    }\n",
       "\n",
       "    .dataframe tbody tr th {\n",
       "        vertical-align: top;\n",
       "    }\n",
       "\n",
       "    .dataframe thead th {\n",
       "        text-align: right;\n",
       "    }\n",
       "</style>\n",
       "<table border=\"1\" class=\"dataframe\">\n",
       "  <thead>\n",
       "    <tr style=\"text-align: right;\">\n",
       "      <th></th>\n",
       "      <th>Sleep Duration</th>\n",
       "      <th>Quality of Sleep</th>\n",
       "      <th>Stress Level</th>\n",
       "    </tr>\n",
       "    <tr>\n",
       "      <th>Person ID</th>\n",
       "      <th></th>\n",
       "      <th></th>\n",
       "      <th></th>\n",
       "    </tr>\n",
       "  </thead>\n",
       "  <tbody>\n",
       "    <tr>\n",
       "      <th>1</th>\n",
       "      <td>6.1</td>\n",
       "      <td>6</td>\n",
       "      <td>6</td>\n",
       "    </tr>\n",
       "    <tr>\n",
       "      <th>2</th>\n",
       "      <td>6.2</td>\n",
       "      <td>6</td>\n",
       "      <td>8</td>\n",
       "    </tr>\n",
       "    <tr>\n",
       "      <th>3</th>\n",
       "      <td>6.2</td>\n",
       "      <td>6</td>\n",
       "      <td>8</td>\n",
       "    </tr>\n",
       "    <tr>\n",
       "      <th>4</th>\n",
       "      <td>5.9</td>\n",
       "      <td>4</td>\n",
       "      <td>8</td>\n",
       "    </tr>\n",
       "    <tr>\n",
       "      <th>5</th>\n",
       "      <td>5.9</td>\n",
       "      <td>4</td>\n",
       "      <td>8</td>\n",
       "    </tr>\n",
       "    <tr>\n",
       "      <th>6</th>\n",
       "      <td>5.9</td>\n",
       "      <td>4</td>\n",
       "      <td>8</td>\n",
       "    </tr>\n",
       "    <tr>\n",
       "      <th>7</th>\n",
       "      <td>6.3</td>\n",
       "      <td>6</td>\n",
       "      <td>7</td>\n",
       "    </tr>\n",
       "    <tr>\n",
       "      <th>8</th>\n",
       "      <td>7.8</td>\n",
       "      <td>7</td>\n",
       "      <td>6</td>\n",
       "    </tr>\n",
       "    <tr>\n",
       "      <th>9</th>\n",
       "      <td>7.8</td>\n",
       "      <td>7</td>\n",
       "      <td>6</td>\n",
       "    </tr>\n",
       "    <tr>\n",
       "      <th>10</th>\n",
       "      <td>7.8</td>\n",
       "      <td>7</td>\n",
       "      <td>6</td>\n",
       "    </tr>\n",
       "  </tbody>\n",
       "</table>\n",
       "</div>"
      ],
      "text/plain": [
       "           Sleep Duration  Quality of Sleep  Stress Level\n",
       "Person ID                                                \n",
       "1                     6.1                 6             6\n",
       "2                     6.2                 6             8\n",
       "3                     6.2                 6             8\n",
       "4                     5.9                 4             8\n",
       "5                     5.9                 4             8\n",
       "6                     5.9                 4             8\n",
       "7                     6.3                 6             7\n",
       "8                     7.8                 7             6\n",
       "9                     7.8                 7             6\n",
       "10                    7.8                 7             6"
      ]
     },
     "execution_count": 10,
     "metadata": {},
     "output_type": "execute_result"
    }
   ],
   "source": [
    "#create a new dataframe that is a subset of original dataframe; only with necessary cols\n",
    "\n",
    "sleep_df = pd.DataFrame(df, columns = ['Sleep Duration', 'Quality of Sleep', 'Stress Level'])\n",
    "\n",
    "sleep_df[:10]"
   ]
  },
  {
   "cell_type": "code",
   "execution_count": 11,
   "id": "91c26282-a0de-4a35-8c53-f7f24ece1f8e",
   "metadata": {},
   "outputs": [],
   "source": [
    "#Cleaning:\n",
    "#Remove whitespace\n",
    "sleep_df.columns = sleep_df.columns.str.strip()\n",
    "\n",
    "#Drop any nas\n",
    "sleep_df = sleep_df.dropna(subset = ['Sleep Duration', 'Quality of Sleep', 'Stress Level'])"
   ]
  },
  {
   "cell_type": "code",
   "execution_count": 24,
   "id": "25fbafdd-2289-4b81-a1f9-55d6dd73ed85",
   "metadata": {},
   "outputs": [],
   "source": [
    "inertia_values = []\n",
    "for k in range(1,11):\n",
    "    kmeans = KMeans(n_clusters = k)\n",
    "    kmeans.fit(sleep_df)\n",
    "    inertia_values.append(kmeans.inertia_)"
   ]
  },
  {
   "cell_type": "code",
   "execution_count": 42,
   "id": "ed5beccb-94b6-43de-a616-0f3d5db15777",
   "metadata": {},
   "outputs": [
    {
     "data": {
      "image/png": "[encoded data removed]",
      "text/plain": [
       "<Figure size 1000x600 with 1 Axes>"
      ]
     },
     "metadata": {},
     "output_type": "display_data"
    }
   ],
   "source": [
    "plt.figure(figsize = (10, 6))\n",
    "plt.plot(range(1,11), inertia_values, marker = 'o')\n",
    "plt.title('K Means')\n",
    "plt.xlabel('Number of Clusters')\n",
    "plt.ylabel('Inertia')\n",
    "plt.grid(True)\n",
    "plt.show()"
   ]
  },
  {
   "cell_type": "code",
   "execution_count": 26,
   "id": "11c12750-7eba-4b86-9007-43ae96bd53ee",
   "metadata": {},
   "outputs": [
    {
     "name": "stdout",
     "output_type": "stream",
     "text": [
      "           Sleep Duration  Quality of Sleep  Stress Level  cluster\n",
      "Person ID                                                         \n",
      "1                     6.1                 6             6        1\n",
      "2                     6.2                 6             8        1\n",
      "3                     6.2                 6             8        1\n",
      "4                     5.9                 4             8        1\n",
      "5                     5.9                 4             8        1\n",
      "6                     5.9                 4             8        1\n",
      "7                     6.3                 6             7        1\n",
      "8                     7.8                 7             6        3\n",
      "9                     7.8                 7             6        3\n",
      "10                    7.8                 7             6        3\n",
      "11                    6.1                 6             8        1\n",
      "12                    7.8                 7             6        3\n",
      "13                    6.1                 6             8        1\n",
      "14                    6.0                 6             8        1\n",
      "15                    6.0                 6             8        1\n",
      "16                    6.0                 6             8        1\n",
      "17                    6.5                 5             7        1\n",
      "18                    6.0                 6             8        1\n",
      "19                    6.5                 5             7        1\n",
      "20                    7.6                 7             6        3\n"
     ]
    }
   ],
   "source": [
    "kmeans = KMeans(n_clusters = 4)\n",
    "cluster_labels = kmeans.fit_predict(sleep_df)\n",
    "sleep_df['cluster'] = cluster_labels\n",
    "print(sleep_df[:20])"
   ]
  },
  {
   "cell_type": "code",
   "execution_count": 27,
   "id": "6b60ed05-479f-44c9-b854-d7ed8e49a271",
   "metadata": {},
   "outputs": [
    {
     "name": "stdout",
     "output_type": "stream",
     "text": [
      "           Sleep Duration  Quality of Sleep  Stress Level  cluster\n",
      "Person ID                                                         \n",
      "150                   8.0                 9             3        0\n",
      "151                   8.0                 9             3        0\n",
      "277                   8.1                 9             3        0\n",
      "278                   8.1                 9             3        0\n",
      "280                   8.3                 9             3        0\n",
      "           Sleep Duration  Quality of Sleep  Stress Level  cluster\n",
      "Person ID                                                         \n",
      "1                     6.1                 6             6        1\n",
      "2                     6.2                 6             8        1\n",
      "3                     6.2                 6             8        1\n",
      "4                     5.9                 4             8        1\n",
      "5                     5.9                 4             8        1\n",
      "           Sleep Duration  Quality of Sleep  Stress Level  cluster\n",
      "Person ID                                                         \n",
      "33                    7.9                 8             4        2\n",
      "51                    7.5                 8             3        2\n",
      "52                    7.5                 8             3        2\n",
      "83                    6.7                 7             5        2\n",
      "84                    6.7                 7             5        2\n",
      "           Sleep Duration  Quality of Sleep  Stress Level  cluster\n",
      "Person ID                                                         \n",
      "8                     7.8                 7             6        3\n",
      "9                     7.8                 7             6        3\n",
      "10                    7.8                 7             6        3\n",
      "12                    7.8                 7             6        3\n",
      "20                    7.6                 7             6        3\n"
     ]
    }
   ],
   "source": [
    "grouped = sleep_df.groupby('cluster')\n",
    "\n",
    "print(grouped.get_group(0)[:5])\n",
    "print(grouped.get_group(1)[:5])\n",
    "print(grouped.get_group(2)[:5])\n",
    "print(grouped.get_group(3)[:5])"
   ]
  },
  {
   "cell_type": "code",
   "execution_count": 28,
   "id": "32f725f1-bd7d-4ffd-90e2-59d9953a97c0",
   "metadata": {},
   "outputs": [
    {
     "name": "stdout",
     "output_type": "stream",
     "text": [
      "\n",
      "Cluster 0:\n",
      "ID: 331\tSleep Duration: 8.5 \t Sleep Quality: 9 \t Stress Level: 3 \t Occupation: Engineer \n",
      "ID: 301\tSleep Duration: 8.5 \t Sleep Quality: 9 \t Stress Level: 3 \t Occupation: Engineer \n",
      "ID: 353\tSleep Duration: 8.0 \t Sleep Quality: 9 \t Stress Level: 3 \t Occupation: Nurse \n",
      "ID: 278\tSleep Duration: 8.1 \t Sleep Quality: 9 \t Stress Level: 3 \t Occupation: Doctor \n",
      "ID: 341\tSleep Duration: 8.1 \t Sleep Quality: 9 \t Stress Level: 4 \t Occupation: Nurse \n",
      "\n",
      "Cluster 1:\n",
      "ID: 76\tSleep Duration: 6.0 \t Sleep Quality: 6 \t Stress Level: 8 \t Occupation: Doctor \n",
      "ID: 245\tSleep Duration: 6.3 \t Sleep Quality: 6 \t Stress Level: 7 \t Occupation: Salesperson \n",
      "ID: 80\tSleep Duration: 6.0 \t Sleep Quality: 6 \t Stress Level: 8 \t Occupation: Doctor \n",
      "ID: 222\tSleep Duration: 6.4 \t Sleep Quality: 6 \t Stress Level: 7 \t Occupation: Salesperson \n",
      "ID: 78\tSleep Duration: 6.0 \t Sleep Quality: 6 \t Stress Level: 8 \t Occupation: Doctor \n",
      "\n",
      "Cluster 2:\n",
      "ID: 214\tSleep Duration: 7.8 \t Sleep Quality: 8 \t Stress Level: 5 \t Occupation: Engineer \n",
      "ID: 166\tSleep Duration: 7.6 \t Sleep Quality: 8 \t Stress Level: 5 \t Occupation: Lawyer \n",
      "ID: 216\tSleep Duration: 7.8 \t Sleep Quality: 8 \t Stress Level: 5 \t Occupation: Engineer \n",
      "ID: 241\tSleep Duration: 6.5 \t Sleep Quality: 7 \t Stress Level: 4 \t Occupation: Teacher \n",
      "ID: 187\tSleep Duration: 6.7 \t Sleep Quality: 7 \t Stress Level: 4 \t Occupation: Teacher \n",
      "\n",
      "Cluster 3:\n",
      "ID: 12\tSleep Duration: 7.8 \t Sleep Quality: 7 \t Stress Level: 6 \t Occupation: Doctor \n",
      "ID: 45\tSleep Duration: 7.7 \t Sleep Quality: 7 \t Stress Level: 6 \t Occupation: Doctor \n",
      "ID: 303\tSleep Duration: 7.1 \t Sleep Quality: 7 \t Stress Level: 6 \t Occupation: Nurse \n",
      "ID: 44\tSleep Duration: 7.8 \t Sleep Quality: 7 \t Stress Level: 6 \t Occupation: Doctor \n",
      "ID: 167\tSleep Duration: 7.3 \t Sleep Quality: 8 \t Stress Level: 6 \t Occupation: Engineer \n"
     ]
    }
   ],
   "source": [
    "for cluster, group in grouped:\n",
    "    print(f\"\\nCluster {cluster}:\")\n",
    "    person_samp = group.sample(n = 5).index\n",
    "    for person in person_samp:\n",
    "        print(f\"ID: {person}\\tSleep Duration: {df.loc[person, \"Sleep Duration\"]} \\t Sleep Quality: {df.loc[person, \"Quality of Sleep\"]} \\t Stress Level: {df.loc[person, \"Stress Level\"]} \\t Occupation: {df.loc[person, \"Occupation\"]} \")"
   ]
  },
  {
   "cell_type": "code",
   "execution_count": 29,
   "id": "5e9f71b2-0250-4e54-bb34-444940e5bdcd",
   "metadata": {},
   "outputs": [
    {
     "data": {
      "image/png": "[encoded data removed]",
      "text/plain": [
       "<Figure size 800x600 with 1 Axes>"
      ]
     },
     "metadata": {},
     "output_type": "display_data"
    }
   ],
   "source": [
    "import matplotlib.pyplot as plt\n",
    "import seaborn as sns\n",
    "\n",
    "plt.figure(figsize=(8, 6))\n",
    "sns.scatterplot(\n",
    "    x='Sleep Duration', \n",
    "    y='Quality of Sleep', \n",
    "    hue='cluster', \n",
    "    data=sleep_df, \n",
    "    palette='viridis', \n",
    "    s=50\n",
    ")\n",
    "plt.title('Cluster Visualization')\n",
    "plt.xlabel('Sleep Duration')\n",
    "plt.ylabel('Quality of Sleep')\n",
    "plt.legend(title='Cluster')\n",
    "plt.show()"
   ]
  }
 ],
 "metadata": {
  "kernelspec": {
   "display_name": "Python 3 (ipykernel)",
   "language": "python",
   "name": "python3"
  },
  "language_info": {
   "codemirror_mode": {
    "name": "ipython",
    "version": 3
   },
   "file_extension": ".py",
   "mimetype": "text/x-python",
   "name": "python",
   "nbconvert_exporter": "python",
   "pygments_lexer": "ipython3",
   "version": "3.12.5"
  }
 },
 "nbformat": 4,
 "nbformat_minor": 5
}
